{
 "cells": [
  {
   "cell_type": "code",
   "execution_count": 1,
   "id": "e46193ff",
   "metadata": {},
   "outputs": [],
   "source": [
    "import torch\n",
    "from torch import nn\n",
    "from torch.utils.data import DataLoader\n",
    "from torchvision import datasets\n",
    "from torchvision.transforms import ToTensor"
   ]
  },
  {
   "cell_type": "code",
   "execution_count": 2,
   "id": "0bd87163",
   "metadata": {},
   "outputs": [
    {
     "name": "stdout",
     "output_type": "stream",
     "text": [
      "tensor([[0.5188, 0.8188, 0.9268],\n",
      "        [0.7047, 0.8714, 0.2704],\n",
      "        [0.8120, 0.7637, 0.7288],\n",
      "        [0.2592, 0.5980, 0.8463],\n",
      "        [0.3507, 0.1861, 0.6446]])\n"
     ]
    }
   ],
   "source": [
    "import torch\n",
    "x = torch.rand(5, 3)\n",
    "print(x)"
   ]
  },
  {
   "cell_type": "code",
   "execution_count": 3,
   "id": "db5ba83e",
   "metadata": {},
   "outputs": [
    {
     "data": {
      "text/plain": [
       "False"
      ]
     },
     "execution_count": 3,
     "metadata": {},
     "output_type": "execute_result"
    }
   ],
   "source": [
    "import torch\n",
    "torch.cuda.is_available()"
   ]
  },
  {
   "cell_type": "code",
   "execution_count": 4,
   "id": "e841789c",
   "metadata": {},
   "outputs": [],
   "source": [
    "# Download training data from open datasets.\n",
    "training_data = datasets.FashionMNIST(\n",
    "    root=\"data\",\n",
    "    train=True,\n",
    "    download=True,\n",
    "    transform=ToTensor(),\n",
    ")\n",
    "\n",
    "# Download test data from open datasets.\n",
    "test_data = datasets.FashionMNIST(\n",
    "    root=\"data\",\n",
    "    train=False,\n",
    "    download=True,\n",
    "    transform=ToTensor(),\n",
    ")"
   ]
  },
  {
   "cell_type": "code",
   "execution_count": 5,
   "id": "84bb93b8",
   "metadata": {},
   "outputs": [
    {
     "name": "stdout",
     "output_type": "stream",
     "text": [
      "Shape of X [N, C, H, W]: torch.Size([64, 1, 28, 28])\n",
      "Shape of y: torch.Size([64]) torch.int64\n"
     ]
    }
   ],
   "source": [
    "batch_size = 64\n",
    "\n",
    "# Create data loaders.\n",
    "train_dataloader = DataLoader(training_data, batch_size=batch_size)\n",
    "test_dataloader = DataLoader(test_data, batch_size=batch_size)\n",
    "\n",
    "for X, y in test_dataloader:\n",
    "    print(f\"Shape of X [N, C, H, W]: {X.shape}\")\n",
    "    print(f\"Shape of y: {y.shape} {y.dtype}\")\n",
    "    break"
   ]
  },
  {
   "cell_type": "code",
   "execution_count": 6,
   "id": "cba67cf3",
   "metadata": {},
   "outputs": [
    {
     "name": "stdout",
     "output_type": "stream",
     "text": [
      "Using cpu device\n",
      "NeuralNetwork(\n",
      "  (flatten): Flatten(start_dim=1, end_dim=-1)\n",
      "  (linear_relu_stack): Sequential(\n",
      "    (0): Linear(in_features=784, out_features=512, bias=True)\n",
      "    (1): ReLU()\n",
      "    (2): Linear(in_features=512, out_features=512, bias=True)\n",
      "    (3): ReLU()\n",
      "    (4): Linear(in_features=512, out_features=10, bias=True)\n",
      "  )\n",
      ")\n"
     ]
    }
   ],
   "source": [
    "# Get cpu or gpu device for training.\n",
    "device = \"cuda\" if torch.cuda.is_available() else \"cpu\"\n",
    "print(f\"Using {device} device\")\n",
    "\n",
    "# Define model\n",
    "class NeuralNetwork(nn.Module):\n",
    "    def __init__(self):\n",
    "        super(NeuralNetwork, self).__init__()\n",
    "        self.flatten = nn.Flatten()\n",
    "        self.linear_relu_stack = nn.Sequential(\n",
    "            nn.Linear(28*28, 512),\n",
    "            nn.ReLU(),\n",
    "            nn.Linear(512, 512),\n",
    "            nn.ReLU(),\n",
    "            nn.Linear(512, 10)\n",
    "        )\n",
    "\n",
    "    def forward(self, x):\n",
    "        x = self.flatten(x)\n",
    "        logits = self.linear_relu_stack(x)\n",
    "        return logits\n",
    "\n",
    "model = NeuralNetwork().to(device)\n",
    "print(model)"
   ]
  },
  {
   "cell_type": "code",
   "execution_count": 7,
   "id": "e69408b2",
   "metadata": {},
   "outputs": [],
   "source": [
    "loss_fn = nn.CrossEntropyLoss()\n",
    "optimizer = torch.optim.SGD(model.parameters(), lr=1e-3)"
   ]
  },
  {
   "cell_type": "code",
   "execution_count": 8,
   "id": "80a0d550",
   "metadata": {},
   "outputs": [],
   "source": [
    "def train(dataloader, model, loss_fn, optimizer):\n",
    "    size = len(dataloader.dataset)\n",
    "    model.train()\n",
    "    for batch, (X, y) in enumerate(dataloader):\n",
    "        X, y = X.to(device), y.to(device)\n",
    "\n",
    "        # Compute prediction error\n",
    "        pred = model(X)\n",
    "        loss = loss_fn(pred, y)\n",
    "\n",
    "        # Backpropagation\n",
    "        optimizer.zero_grad()\n",
    "        loss.backward()\n",
    "        optimizer.step()\n",
    "\n",
    "        if batch % 100 == 0:\n",
    "            loss, current = loss.item(), batch * len(X)\n",
    "            print(f\"loss: {loss:>7f}  [{current:>5d}/{size:>5d}]\")"
   ]
  },
  {
   "cell_type": "code",
   "execution_count": 9,
   "id": "eb252ae5",
   "metadata": {},
   "outputs": [],
   "source": [
    "def test(dataloader, model, loss_fn):\n",
    "    size = len(dataloader.dataset)\n",
    "    num_batches = len(dataloader)\n",
    "    model.eval()\n",
    "    test_loss, correct = 0, 0\n",
    "    with torch.no_grad():\n",
    "        for X, y in dataloader:\n",
    "            X, y = X.to(device), y.to(device)\n",
    "            pred = model(X)\n",
    "            test_loss += loss_fn(pred, y).item()\n",
    "            correct += (pred.argmax(1) == y).type(torch.float).sum().item()\n",
    "    test_loss /= num_batches\n",
    "    correct /= size\n",
    "    print(f\"Test Error: \\n Accuracy: {(100*correct):>0.1f}%, Avg loss: {test_loss:>8f} \\n\")"
   ]
  },
  {
   "cell_type": "code",
   "execution_count": 10,
   "id": "ab0fcf0f",
   "metadata": {
    "scrolled": false
   },
   "outputs": [
    {
     "name": "stdout",
     "output_type": "stream",
     "text": [
      "Epoch 1\n",
      "-------------------------------\n",
      "loss: 2.309198  [    0/60000]\n",
      "loss: 2.296366  [ 6400/60000]\n",
      "loss: 2.282508  [12800/60000]\n",
      "loss: 2.276676  [19200/60000]\n",
      "loss: 2.255650  [25600/60000]\n",
      "loss: 2.242434  [32000/60000]\n",
      "loss: 2.246337  [38400/60000]\n",
      "loss: 2.221770  [44800/60000]\n",
      "loss: 2.202351  [51200/60000]\n",
      "loss: 2.178186  [57600/60000]\n",
      "Test Error: \n",
      " Accuracy: 43.3%, Avg loss: 2.175334 \n",
      "\n",
      "Epoch 2\n",
      "-------------------------------\n",
      "loss: 2.181892  [    0/60000]\n",
      "loss: 2.171413  [ 6400/60000]\n",
      "loss: 2.122653  [12800/60000]\n",
      "loss: 2.139632  [19200/60000]\n",
      "loss: 2.090736  [25600/60000]\n",
      "loss: 2.040882  [32000/60000]\n",
      "loss: 2.070450  [38400/60000]\n",
      "loss: 1.997266  [44800/60000]\n",
      "loss: 1.988928  [51200/60000]\n",
      "loss: 1.935115  [57600/60000]\n",
      "Test Error: \n",
      " Accuracy: 53.7%, Avg loss: 1.927672 \n",
      "\n",
      "Epoch 3\n",
      "-------------------------------\n",
      "loss: 1.951774  [    0/60000]\n",
      "loss: 1.927298  [ 6400/60000]\n",
      "loss: 1.816237  [12800/60000]\n",
      "loss: 1.864127  [19200/60000]\n",
      "loss: 1.759596  [25600/60000]\n",
      "loss: 1.699466  [32000/60000]\n",
      "loss: 1.738788  [38400/60000]\n",
      "loss: 1.629495  [44800/60000]\n",
      "loss: 1.654685  [51200/60000]\n",
      "loss: 1.564715  [57600/60000]\n",
      "Test Error: \n",
      " Accuracy: 57.8%, Avg loss: 1.570505 \n",
      "\n",
      "Epoch 4\n",
      "-------------------------------\n",
      "loss: 1.627814  [    0/60000]\n",
      "loss: 1.595662  [ 6400/60000]\n",
      "loss: 1.446847  [12800/60000]\n",
      "loss: 1.529447  [19200/60000]\n",
      "loss: 1.413790  [25600/60000]\n",
      "loss: 1.389016  [32000/60000]\n",
      "loss: 1.418922  [38400/60000]\n",
      "loss: 1.331225  [44800/60000]\n",
      "loss: 1.367540  [51200/60000]\n",
      "loss: 1.273212  [57600/60000]\n",
      "Test Error: \n",
      " Accuracy: 62.1%, Avg loss: 1.295748 \n",
      "\n",
      "Epoch 5\n",
      "-------------------------------\n",
      "loss: 1.367629  [    0/60000]\n",
      "loss: 1.347701  [ 6400/60000]\n",
      "loss: 1.186255  [12800/60000]\n",
      "loss: 1.297379  [19200/60000]\n",
      "loss: 1.177938  [25600/60000]\n",
      "loss: 1.185022  [32000/60000]\n",
      "loss: 1.213893  [38400/60000]\n",
      "loss: 1.143128  [44800/60000]\n",
      "loss: 1.178795  [51200/60000]\n",
      "loss: 1.097651  [57600/60000]\n",
      "Test Error: \n",
      " Accuracy: 64.3%, Avg loss: 1.119773 \n",
      "\n",
      "Done!\n"
     ]
    }
   ],
   "source": [
    "epochs = 5\n",
    "for t in range(epochs):\n",
    "    print(f\"Epoch {t+1}\\n-------------------------------\")\n",
    "    train(train_dataloader, model, loss_fn, optimizer)\n",
    "    test(test_dataloader, model, loss_fn)\n",
    "print(\"Done!\")"
   ]
  },
  {
   "cell_type": "code",
   "execution_count": 11,
   "id": "2e3e2847",
   "metadata": {},
   "outputs": [],
   "source": [
    "torch.save(model, './model.pth')"
   ]
  },
  {
   "cell_type": "code",
   "execution_count": 12,
   "id": "6eb78d98",
   "metadata": {},
   "outputs": [],
   "source": [
    "model = torch.load('model.pth').to(device)\n",
    "loss_fn = nn.CrossEntropyLoss()\n",
    "optimizer = torch.optim.SGD(model.parameters(), lr=1e-3)"
   ]
  },
  {
   "cell_type": "code",
   "execution_count": 13,
   "id": "1434f8d9",
   "metadata": {},
   "outputs": [
    {
     "name": "stdout",
     "output_type": "stream",
     "text": [
      "Epoch 1\n",
      "-------------------------------\n",
      "loss: 1.188636  [    0/60000]\n",
      "loss: 1.185582  [ 6400/60000]\n",
      "loss: 1.009951  [12800/60000]\n",
      "loss: 1.148431  [19200/60000]\n",
      "loss: 1.026239  [25600/60000]\n",
      "loss: 1.044956  [32000/60000]\n",
      "loss: 1.085175  [38400/60000]\n",
      "loss: 1.020396  [44800/60000]\n",
      "loss: 1.054685  [51200/60000]\n",
      "loss: 0.986616  [57600/60000]\n",
      "Test Error: \n",
      " Accuracy: 65.4%, Avg loss: 1.004159 \n",
      "\n",
      "Epoch 2\n",
      "-------------------------------\n",
      "loss: 1.063237  [    0/60000]\n",
      "loss: 1.078318  [ 6400/60000]\n",
      "loss: 0.887260  [12800/60000]\n",
      "loss: 1.048140  [19200/60000]\n",
      "loss: 0.929127  [25600/60000]\n",
      "loss: 0.945044  [32000/60000]\n",
      "loss: 1.000181  [38400/60000]\n",
      "loss: 0.939779  [44800/60000]\n",
      "loss: 0.969484  [51200/60000]\n",
      "loss: 0.913254  [57600/60000]\n",
      "Test Error: \n",
      " Accuracy: 66.8%, Avg loss: 0.925638 \n",
      "\n",
      "Epoch 3\n",
      "-------------------------------\n",
      "loss: 0.971832  [    0/60000]\n",
      "loss: 1.004339  [ 6400/60000]\n",
      "loss: 0.799624  [12800/60000]\n",
      "loss: 0.978001  [19200/60000]\n",
      "loss: 0.864476  [25600/60000]\n",
      "loss: 0.871690  [32000/60000]\n",
      "loss: 0.941018  [38400/60000]\n",
      "loss: 0.886148  [44800/60000]\n",
      "loss: 0.909306  [51200/60000]\n",
      "loss: 0.861862  [57600/60000]\n",
      "Test Error: \n",
      " Accuracy: 68.1%, Avg loss: 0.869818 \n",
      "\n",
      "Epoch 4\n",
      "-------------------------------\n",
      "loss: 0.902461  [    0/60000]\n",
      "loss: 0.949682  [ 6400/60000]\n",
      "loss: 0.734818  [12800/60000]\n",
      "loss: 0.926425  [19200/60000]\n",
      "loss: 0.818521  [25600/60000]\n",
      "loss: 0.816084  [32000/60000]\n",
      "loss: 0.896834  [38400/60000]\n",
      "loss: 0.849124  [44800/60000]\n",
      "loss: 0.864932  [51200/60000]\n",
      "loss: 0.823469  [57600/60000]\n",
      "Test Error: \n",
      " Accuracy: 69.3%, Avg loss: 0.828151 \n",
      "\n",
      "Epoch 5\n",
      "-------------------------------\n",
      "loss: 0.847544  [    0/60000]\n",
      "loss: 0.906607  [ 6400/60000]\n",
      "loss: 0.685170  [12800/60000]\n",
      "loss: 0.886642  [19200/60000]\n",
      "loss: 0.783796  [25600/60000]\n",
      "loss: 0.773364  [32000/60000]\n",
      "loss: 0.861649  [38400/60000]\n",
      "loss: 0.822094  [44800/60000]\n",
      "loss: 0.831054  [51200/60000]\n",
      "loss: 0.792982  [57600/60000]\n",
      "Test Error: \n",
      " Accuracy: 70.7%, Avg loss: 0.795496 \n",
      "\n",
      "Done!\n"
     ]
    }
   ],
   "source": [
    "epochs = 5\n",
    "for t in range(epochs):\n",
    "    print(f\"Epoch {t+1}\\n-------------------------------\")\n",
    "    train(train_dataloader, model, loss_fn, optimizer)\n",
    "    test(test_dataloader, model, loss_fn)\n",
    "print(\"Done!\")"
   ]
  }
 ],
 "metadata": {
  "kernelspec": {
   "display_name": "Python-ML",
   "language": "python",
   "name": "ml"
  },
  "language_info": {
   "codemirror_mode": {
    "name": "ipython",
    "version": 3
   },
   "file_extension": ".py",
   "mimetype": "text/x-python",
   "name": "python",
   "nbconvert_exporter": "python",
   "pygments_lexer": "ipython3",
   "version": "3.9.12"
  }
 },
 "nbformat": 4,
 "nbformat_minor": 5
}
