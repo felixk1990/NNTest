{
 "cells": [
  {
   "cell_type": "code",
   "execution_count": 1,
   "id": "ede3f52c",
   "metadata": {},
   "outputs": [],
   "source": [
    "import pandas as pd\n",
    "import numpy as np\n",
    "import sklearn\n",
    "import os\n",
    "import os.path as op"
   ]
  },
  {
   "cell_type": "code",
   "execution_count": 2,
   "id": "59ec9575",
   "metadata": {},
   "outputs": [
    {
     "name": "stdout",
     "output_type": "stream",
     "text": [
      "../../data/kaggle-titanic/train_label.csv\n",
      "../../data/kaggle-titanic/test_RescaleClean.csv\n",
      "../../data/kaggle-titanic/train_RescaleClean.csv\n",
      "../../data/kaggle-titanic/test.csv\n",
      "../../data/kaggle-titanic/submission.csv\n",
      "../../data/kaggle-titanic/train.csv\n",
      "../../data/kaggle-titanic/significantFeatures.txt\n",
      "   Pclass  Sex  SibSp  Parch  Fare_group  Embarked  Age_group  Title\n",
      "0     1.0  0.0  0.125    0.0         0.0       0.0        0.2    0.0\n",
      "1     0.0  1.0  0.125    0.0         0.0       0.5        0.4    0.5\n",
      "2     1.0  1.0  0.000    0.0         0.0       0.0        0.2    1.0\n",
      "3     0.0  1.0  0.125    0.0         0.0       0.0        0.4    0.5\n",
      "4     1.0  0.0  0.000    0.0         0.0       0.0        0.4    0.0\n",
      "<class 'pandas.core.frame.DataFrame'>\n",
      "Int64Index: 891 entries, 0 to 890\n",
      "Data columns (total 8 columns):\n",
      " #   Column      Non-Null Count  Dtype  \n",
      "---  ------      --------------  -----  \n",
      " 0   Pclass      891 non-null    float64\n",
      " 1   Sex         891 non-null    float64\n",
      " 2   SibSp       891 non-null    float64\n",
      " 3   Parch       891 non-null    float64\n",
      " 4   Fare_group  891 non-null    float64\n",
      " 5   Embarked    891 non-null    float64\n",
      " 6   Age_group   891 non-null    float64\n",
      " 7   Title       891 non-null    float64\n",
      "dtypes: float64(8)\n",
      "memory usage: 62.6 KB\n",
      "None\n",
      "   Survived\n",
      "0         0\n",
      "1         1\n",
      "2         1\n",
      "3         1\n",
      "4         0\n",
      "<class 'pandas.core.frame.DataFrame'>\n",
      "Int64Index: 891 entries, 0 to 890\n",
      "Data columns (total 1 columns):\n",
      " #   Column    Non-Null Count  Dtype\n",
      "---  ------    --------------  -----\n",
      " 0   Survived  891 non-null    int64\n",
      "dtypes: int64(1)\n",
      "memory usage: 13.9 KB\n",
      "None\n",
      "   Pclass  Sex  SibSp     Parch  Fare_group  Embarked  Age_group  Title\n",
      "0     1.0  0.0  0.000  0.000000         0.0       1.0        0.4    0.0\n",
      "1     1.0  1.0  0.125  0.000000         0.0       0.0        0.6    0.5\n",
      "2     0.5  0.0  0.000  0.000000         0.0       1.0        0.8    0.0\n",
      "3     1.0  0.0  0.000  0.000000         0.0       0.0        0.4    0.0\n",
      "4     1.0  1.0  0.125  0.111111         0.0       0.0        0.2    0.5\n",
      "<class 'pandas.core.frame.DataFrame'>\n",
      "Int64Index: 418 entries, 0 to 417\n",
      "Data columns (total 8 columns):\n",
      " #   Column      Non-Null Count  Dtype  \n",
      "---  ------      --------------  -----  \n",
      " 0   Pclass      418 non-null    float64\n",
      " 1   Sex         418 non-null    float64\n",
      " 2   SibSp       418 non-null    float64\n",
      " 3   Parch       418 non-null    float64\n",
      " 4   Fare_group  418 non-null    float64\n",
      " 5   Embarked    418 non-null    float64\n",
      " 6   Age_group   418 non-null    float64\n",
      " 7   Title       418 non-null    float64\n",
      "dtypes: float64(8)\n",
      "memory usage: 29.4 KB\n",
      "None\n"
     ]
    }
   ],
   "source": [
    "path = '../../data/kaggle-titanic'\n",
    "for dirname, _, filenames in os.walk(path):\n",
    "    for filename in filenames:\n",
    "        print(os.path.join(dirname, filename))\n",
    "        \n",
    "setNames = ['train_RescaleClean.csv','train_label.csv','test_RescaleClean.csv']\n",
    "data = []\n",
    "for sn in setNames:\n",
    "    data.append( pd.read_csv(op.join(path,sn), index_col=0))\n",
    "    print(data[-1].head())\n",
    "    print(data[-1].info())"
   ]
  },
  {
   "cell_type": "code",
   "execution_count": 3,
   "id": "9f7089bc",
   "metadata": {},
   "outputs": [
    {
     "name": "stdout",
     "output_type": "stream",
     "text": [
      "Pclass\n",
      "Ttest\n",
      "t_value / p_value\n",
      "[0.8674631603325991, 0.38584752217739526]\n",
      "Kolmogorov-Smirnoff Test\n",
      "t_value / p_value\n",
      "[0.0295351172544155, 0.9571654941014093]\n",
      "Sex\n",
      "Ttest\n",
      "t_value / p_value\n",
      "[-0.39509930956433004, 0.692834069156284]\n",
      "Kolmogorov-Smirnoff Test\n",
      "t_value / p_value\n",
      "[0.01122334455667789, 0.9999999999993855]\n",
      "SibSp\n",
      "Ttest\n",
      "t_value / p_value\n",
      "[1.2250766361124175, 0.22076707764804074]\n",
      "Kolmogorov-Smirnoff Test\n",
      "t_value / p_value\n",
      "[0.025311595487034082, 0.9905968490976705]\n",
      "Parch\n",
      "Ttest\n",
      "t_value / p_value\n",
      "[2.660755217388427, 0.007892024418301998]\n",
      "Kolmogorov-Smirnoff Test\n",
      "t_value / p_value\n",
      "[0.13857877015771752, 3.11376030827093e-05]\n",
      "Fare_group\n",
      "Ttest\n",
      "t_value / p_value\n",
      "[-1.1525163493312045, 0.24931970409143328]\n",
      "Kolmogorov-Smirnoff Test\n",
      "t_value / p_value\n",
      "[0.02061551184358202, 0.9995033588321123]\n",
      "Embarked\n",
      "Ttest\n",
      "t_value / p_value\n",
      "[-2.598211635368975, 0.009476445869056558]\n",
      "Kolmogorov-Smirnoff Test\n",
      "t_value / p_value\n",
      "[0.07685037509598913, 0.06509628840998538]\n",
      "Age_group\n",
      "Ttest\n",
      "t_value / p_value\n",
      "[-2.1529636076719285, 0.03150406350327892]\n",
      "Kolmogorov-Smirnoff Test\n",
      "t_value / p_value\n",
      "[0.06054699037155178, 0.23591309005734407]\n",
      "Title\n",
      "Ttest\n",
      "t_value / p_value\n",
      "[0.29771851900714635, 0.765965323197294]\n",
      "Kolmogorov-Smirnoff Test\n",
      "t_value / p_value\n",
      "[0.02138342489219682, 0.9990778003797719]\n",
      "['Pclass', 'Sex', 'SibSp', 'Fare_group', 'Embarked', 'Age_group', 'Title']\n"
     ]
    }
   ],
   "source": [
    "from sklearn.neural_network import MLPClassifier\n",
    "from sklearn.metrics import accuracy_score\n",
    "from sklearn.model_selection import train_test_split\n",
    "from scipy import stats\n",
    "from scipy.stats import kstest\n",
    "\n",
    "sigFeatures = []\n",
    "X, y, X_test = data[0], data[1]['Survived'], data[2]\n",
    "for col in X.columns:\n",
    "    # Conducting two-sample ttest\n",
    "    print(col)\n",
    "    print('Ttest')\n",
    "    t_value, p_value = stats.ttest_ind(X[col],X_test[col])\n",
    "    print('t_value / p_value'  )\n",
    "    print([t_value, p_value]  )\n",
    "    \n",
    "    print('Kolmogorov-Smirnoff Test')\n",
    "    t_value, p_value = kstest(X[col],X_test[col])\n",
    "    print('t_value / p_value'  )\n",
    "    print([t_value, p_value]  )\n",
    "    \n",
    "    if p_value > 0.05:\n",
    "        sigFeatures.append(col)\n",
    "        \n",
    "print(sigFeatures)\n",
    "with open(op.join(path,\"significantFeatures.txt\"), \"w\") as output:\n",
    "    for sf in sigFeatures:\n",
    "        output.write(sf+'\\n')"
   ]
  },
  {
   "cell_type": "code",
   "execution_count": 4,
   "id": "0710d9bf",
   "metadata": {},
   "outputs": [
    {
     "data": {
      "text/plain": [
       "<AxesSubplot:ylabel='Frequency'>"
      ]
     },
     "execution_count": 4,
     "metadata": {},
     "output_type": "execute_result"
    },
    {
     "data": {
      "image/png": "[encoded data removed]",
      "text/plain": [
       "<Figure size 432x288 with 1 Axes>"
      ]
     },
     "metadata": {
      "needs_background": "light"
     },
     "output_type": "display_data"
    }
   ],
   "source": [
    "X['Age_group'].plot.hist(density=True,cumulative=True, alpha = 0.5, histtype='step')\n",
    "X_test['Age_group'].plot.hist(density=True,cumulative=True, alpha = 0.5, histtype='step')"
   ]
  },
  {
   "cell_type": "code",
   "execution_count": 5,
   "id": "d18f8a06",
   "metadata": {},
   "outputs": [
    {
     "data": {
      "text/plain": [
       "0.3485970819304132"
      ]
     },
     "execution_count": 5,
     "metadata": {},
     "output_type": "execute_result"
    }
   ],
   "source": [
    "np.mean(X['Age_group'])"
   ]
  },
  {
   "cell_type": "code",
   "execution_count": 6,
   "id": "878bf1df",
   "metadata": {},
   "outputs": [
    {
     "data": {
      "text/plain": [
       "0.3746411483253591"
      ]
     },
     "execution_count": 6,
     "metadata": {},
     "output_type": "execute_result"
    }
   ],
   "source": [
    "np.mean(X_test['Age_group'])"
   ]
  },
  {
   "cell_type": "code",
   "execution_count": 7,
   "id": "b316d9c2",
   "metadata": {},
   "outputs": [
    {
     "data": {
      "text/plain": [
       "<AxesSubplot:ylabel='Frequency'>"
      ]
     },
     "execution_count": 7,
     "metadata": {},
     "output_type": "execute_result"
    },
    {
     "data": {
      "image/png": "[encoded data removed]",
      "text/plain": [
       "<Figure size 432x288 with 1 Axes>"
      ]
     },
     "metadata": {
      "needs_background": "light"
     },
     "output_type": "display_data"
    }
   ],
   "source": [
    "X['Parch'].plot.hist(density=True,cumulative=True, alpha = 0.5, histtype='step')\n",
    "X_test['Parch'].plot.hist(density=True,cumulative=True, alpha = 0.5, histtype='step')"
   ]
  },
  {
   "cell_type": "code",
   "execution_count": 8,
   "id": "50de9cf5",
   "metadata": {},
   "outputs": [
    {
     "data": {
      "text/plain": [
       "<AxesSubplot:ylabel='Frequency'>"
      ]
     },
     "execution_count": 8,
     "metadata": {},
     "output_type": "execute_result"
    },
    {
     "data": {
      "image/png": "[encoded data removed]",
      "text/plain": [
       "<Figure size 432x288 with 1 Axes>"
      ]
     },
     "metadata": {
      "needs_background": "light"
     },
     "output_type": "display_data"
    }
   ],
   "source": [
    "X['Embarked'].plot.hist(density=True,cumulative=True, alpha = 0.5, histtype='step')\n",
    "X_test['Embarked'].plot.hist(density=True,cumulative=True, alpha = 0.5, histtype='step')"
   ]
  },
  {
   "cell_type": "code",
   "execution_count": null,
   "id": "777fac0c",
   "metadata": {},
   "outputs": [],
   "source": []
  }
 ],
 "metadata": {
  "kernelspec": {
   "display_name": "Python-ML",
   "language": "python",
   "name": "ml"
  },
  "language_info": {
   "codemirror_mode": {
    "name": "ipython",
    "version": 3
   },
   "file_extension": ".py",
   "mimetype": "text/x-python",
   "name": "python",
   "nbconvert_exporter": "python",
   "pygments_lexer": "ipython3",
   "version": "3.9.12"
  }
 },
 "nbformat": 4,
 "nbformat_minor": 5
}
