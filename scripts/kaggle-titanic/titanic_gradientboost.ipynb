{
 "cells": [
  {
   "cell_type": "code",
   "execution_count": 1,
   "id": "ede3f52c",
   "metadata": {},
   "outputs": [],
   "source": [
    "import pandas as pd\n",
    "import numpy as np\n",
    "import sklearn\n",
    "import os\n",
    "import os.path as op"
   ]
  },
  {
   "cell_type": "code",
   "execution_count": 2,
   "id": "59ec9575",
   "metadata": {},
   "outputs": [
    {
     "name": "stdout",
     "output_type": "stream",
     "text": [
      "../../data/kaggle-titanic/train_label.csv\n",
      "../../data/kaggle-titanic/test_RescaleClean.csv\n",
      "../../data/kaggle-titanic/train_RescaleClean.csv\n",
      "../../data/kaggle-titanic/test.csv\n",
      "../../data/kaggle-titanic/submission.csv\n",
      "../../data/kaggle-titanic/train.csv\n",
      "../../data/kaggle-titanic/significantFeatures.txt\n",
      "   Pclass  Sex  SibSp  Parch  Fare_group  Embarked  Age_group  Title\n",
      "0     1.0  0.0  0.125    0.0         0.0       0.0       0.25    0.0\n",
      "1     0.0  1.0  0.125    0.0         0.0       0.5       0.50    0.5\n",
      "2     1.0  1.0  0.000    0.0         0.0       0.0       0.25    1.0\n",
      "3     0.0  1.0  0.125    0.0         0.0       0.0       0.50    0.5\n",
      "4     1.0  0.0  0.000    0.0         0.0       0.0       0.50    0.0\n",
      "<class 'pandas.core.frame.DataFrame'>\n",
      "Int64Index: 891 entries, 0 to 890\n",
      "Data columns (total 8 columns):\n",
      " #   Column      Non-Null Count  Dtype  \n",
      "---  ------      --------------  -----  \n",
      " 0   Pclass      891 non-null    float64\n",
      " 1   Sex         891 non-null    float64\n",
      " 2   SibSp       891 non-null    float64\n",
      " 3   Parch       891 non-null    float64\n",
      " 4   Fare_group  891 non-null    float64\n",
      " 5   Embarked    891 non-null    float64\n",
      " 6   Age_group   891 non-null    float64\n",
      " 7   Title       891 non-null    float64\n",
      "dtypes: float64(8)\n",
      "memory usage: 62.6 KB\n",
      "None\n",
      "   Survived\n",
      "0         0\n",
      "1         1\n",
      "2         1\n",
      "3         1\n",
      "4         0\n",
      "<class 'pandas.core.frame.DataFrame'>\n",
      "Int64Index: 891 entries, 0 to 890\n",
      "Data columns (total 1 columns):\n",
      " #   Column    Non-Null Count  Dtype\n",
      "---  ------    --------------  -----\n",
      " 0   Survived  891 non-null    int64\n",
      "dtypes: int64(1)\n",
      "memory usage: 13.9 KB\n",
      "None\n",
      "['Pclass', 'Sex', 'SibSp', 'Fare_group', 'Embarked', 'Age_group', 'Title']\n"
     ]
    }
   ],
   "source": [
    "path = '../../data/kaggle-titanic'\n",
    "for dirname, _, filenames in os.walk(path):\n",
    "    for filename in filenames:\n",
    "        print(os.path.join(dirname, filename))\n",
    "        \n",
    "setNames = ['train_RescaleClean.csv','train_label.csv']\n",
    "data = []\n",
    "for sn in setNames:\n",
    "    data.append( pd.read_csv(op.join(path,sn), index_col=0))\n",
    "    print(data[-1].head())\n",
    "    print(data[-1].info())\n",
    "    \n",
    "with open(op.join(path,\"significantFeatures.txt\"), \"r\") as file:\n",
    "    features = [f.split('\\n')[0] for f in file.readlines()]\n",
    "print(features)\n",
    "\n",
    "from sklearn.model_selection import train_test_split\n",
    "X, y = data[0][features], data[1]['Survived']\n",
    "X_train, X_test, y_train, y_test = train_test_split(X, y, test_size = 0.1)"
   ]
  },
  {
   "cell_type": "code",
   "execution_count": 3,
   "id": "5a4f7c3c",
   "metadata": {},
   "outputs": [
    {
     "data": {
      "text/plain": [
       "0.8555555555555555"
      ]
     },
     "execution_count": 3,
     "metadata": {},
     "output_type": "execute_result"
    }
   ],
   "source": [
    "from sklearn.ensemble import GradientBoostingClassifier\n",
    "clf = GradientBoostingClassifier(n_estimators=300, learning_rate=1.0, max_depth=20, random_state=0).fit(X_train, y_train)\n",
    "clf.score(X_test, y_test)"
   ]
  },
  {
   "cell_type": "code",
   "execution_count": null,
   "id": "2faf5caf",
   "metadata": {},
   "outputs": [],
   "source": []
  }
 ],
 "metadata": {
  "kernelspec": {
   "display_name": "Python-ML",
   "language": "python",
   "name": "ml"
  },
  "language_info": {
   "codemirror_mode": {
    "name": "ipython",
    "version": 3
   },
   "file_extension": ".py",
   "mimetype": "text/x-python",
   "name": "python",
   "nbconvert_exporter": "python",
   "pygments_lexer": "ipython3",
   "version": "3.9.12"
  }
 },
 "nbformat": 4,
 "nbformat_minor": 5
}
