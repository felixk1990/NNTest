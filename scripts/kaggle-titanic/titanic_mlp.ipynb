{
 "cells": [
  {
   "cell_type": "code",
   "execution_count": 1,
   "id": "ede3f52c",
   "metadata": {},
   "outputs": [],
   "source": [
    "import pandas as pd\n",
    "import numpy as np\n",
    "import sklearn\n",
    "import os\n",
    "import os.path as op"
   ]
  },
  {
   "cell_type": "code",
   "execution_count": 2,
   "id": "59ec9575",
   "metadata": {},
   "outputs": [
    {
     "name": "stdout",
     "output_type": "stream",
     "text": [
      "../../data/kaggle-titanic/train_label.csv\n",
      "../../data/kaggle-titanic/test_RescaleClean.csv\n",
      "../../data/kaggle-titanic/train_RescaleClean.csv\n",
      "../../data/kaggle-titanic/test.csv\n",
      "../../data/kaggle-titanic/submission.csv\n",
      "../../data/kaggle-titanic/train.csv\n",
      "../../data/kaggle-titanic/significantFeatures.txt\n",
      "   Pclass  Sex     SibSp  Parch  Embarked  CabinTag  Title  Age_group  \\\n",
      "0     1.0  0.0  0.333333    0.0       0.0       1.0    0.0        0.2   \n",
      "1     0.0  1.0  0.333333    0.0       0.5       0.0    0.2        0.4   \n",
      "2     1.0  1.0  0.000000    0.0       0.0       1.0    0.4        0.2   \n",
      "3     0.0  1.0  0.333333    0.0       0.0       0.0    0.2        0.4   \n",
      "4     1.0  0.0  0.000000    0.0       0.0       1.0    0.0        0.4   \n",
      "\n",
      "   Fare_group  \n",
      "0         0.0  \n",
      "1         0.5  \n",
      "2         0.0  \n",
      "3         0.0  \n",
      "4         0.0  \n",
      "<class 'pandas.core.frame.DataFrame'>\n",
      "Int64Index: 891 entries, 0 to 890\n",
      "Data columns (total 9 columns):\n",
      " #   Column      Non-Null Count  Dtype  \n",
      "---  ------      --------------  -----  \n",
      " 0   Pclass      891 non-null    float64\n",
      " 1   Sex         891 non-null    float64\n",
      " 2   SibSp       891 non-null    float64\n",
      " 3   Parch       891 non-null    float64\n",
      " 4   Embarked    891 non-null    float64\n",
      " 5   CabinTag    891 non-null    float64\n",
      " 6   Title       891 non-null    float64\n",
      " 7   Age_group   891 non-null    float64\n",
      " 8   Fare_group  891 non-null    float64\n",
      "dtypes: float64(9)\n",
      "memory usage: 69.6 KB\n",
      "None\n",
      "   Survived\n",
      "0         0\n",
      "1         1\n",
      "2         1\n",
      "3         1\n",
      "4         0\n",
      "<class 'pandas.core.frame.DataFrame'>\n",
      "Int64Index: 891 entries, 0 to 890\n",
      "Data columns (total 1 columns):\n",
      " #   Column    Non-Null Count  Dtype\n",
      "---  ------    --------------  -----\n",
      " 0   Survived  891 non-null    int64\n",
      "dtypes: int64(1)\n",
      "memory usage: 13.9 KB\n",
      "None\n",
      "   Pclass  Sex  SibSp     Parch  Fare_group  Embarked  Age_group  Title\n",
      "0     1.0  0.0  0.000  0.000000         0.0       1.0       0.50    0.0\n",
      "1     1.0  1.0  0.125  0.000000         0.0       0.0       0.75    0.5\n",
      "2     0.5  0.0  0.000  0.000000         0.0       1.0       1.00    0.0\n",
      "3     1.0  0.0  0.000  0.000000         0.0       0.0       0.25    0.0\n",
      "4     1.0  1.0  0.125  0.111111         0.0       0.0       0.25    0.5\n",
      "<class 'pandas.core.frame.DataFrame'>\n",
      "Int64Index: 418 entries, 0 to 417\n",
      "Data columns (total 8 columns):\n",
      " #   Column      Non-Null Count  Dtype  \n",
      "---  ------      --------------  -----  \n",
      " 0   Pclass      418 non-null    float64\n",
      " 1   Sex         418 non-null    float64\n",
      " 2   SibSp       418 non-null    float64\n",
      " 3   Parch       418 non-null    float64\n",
      " 4   Fare_group  418 non-null    float64\n",
      " 5   Embarked    418 non-null    float64\n",
      " 6   Age_group   418 non-null    float64\n",
      " 7   Title       418 non-null    float64\n",
      "dtypes: float64(8)\n",
      "memory usage: 29.4 KB\n",
      "None\n"
     ]
    }
   ],
   "source": [
    "path = '../../data/kaggle-titanic'\n",
    "for dirname, _, filenames in os.walk(path):\n",
    "    for filename in filenames:\n",
    "        print(os.path.join(dirname, filename))\n",
    "        \n",
    "setNames = ['train_RescaleClean.csv','train_label.csv','test_RescaleClean.csv']\n",
    "data = []\n",
    "for sn in setNames:\n",
    "    data.append( pd.read_csv(op.join(path,sn), index_col=0))\n",
    "    print(data[-1].head())\n",
    "    print(data[-1].info())"
   ]
  },
  {
   "cell_type": "code",
   "execution_count": 3,
   "id": "9f7089bc",
   "metadata": {},
   "outputs": [
    {
     "data": {
      "text/plain": [
       "{'fit_time': array([0.85130501, 0.89072227, 0.87388539, 0.92907023, 0.93495202]),\n",
       " 'score_time': array([0.00186539, 0.00170517, 0.00171924, 0.00185132, 0.00175023]),\n",
       " 'test_score': array([0.81564246, 0.79775281, 0.78089888, 0.76966292, 0.78651685])}"
      ]
     },
     "execution_count": 3,
     "metadata": {},
     "output_type": "execute_result"
    }
   ],
   "source": [
    "# simple model\n",
    "from sklearn.neural_network import MLPClassifier\n",
    "from sklearn.model_selection import cross_validate\n",
    "\n",
    "import os.path as op\n",
    "\n",
    "X, y = data[0], data[1]['Survived']\n",
    "clf = MLPClassifier(\n",
    "    hidden_layer_sizes=(100,100,100), \n",
    "                    random_state=42, \n",
    "                    max_iter = 5000, \n",
    "                    learning_rate='adaptive', \n",
    "                    alpha=10.,\n",
    "                    tol=1e-7\n",
    "                   )\n",
    "scores = cross_validate(clf, X, y)\n",
    "scores"
   ]
  },
  {
   "cell_type": "code",
   "execution_count": 4,
   "id": "4a25c4bf",
   "metadata": {},
   "outputs": [],
   "source": [
    "# # stagged models\n",
    "# from sklearn.linear_model import LogisticRegression\n",
    "# from sklearn.ensemble import StackingClassifier\n",
    "# from sklearn.neural_network import MLPClassifier\n",
    "# from sklearn.ensemble import RandomForestClassifier\n",
    "# from sklearn.naive_bayes import GaussianNB\n",
    "# from sklearn.linear_model import SGDClassifier\n",
    "# from sklearn import svm\n",
    "# from sklearn.model_selection import train_test_split\n",
    "\n",
    "# X, y = data[0], data[1]['Survived']\n",
    "# X_train, X_test, y_train, y_test = train_test_split(X, y, test_size = 0.1)\n",
    "# estimators = [('tree', RandomForestClassifier(n_estimators=100, max_depth=5, random_state=1)),\n",
    "#               ('mlp', MLPClassifier(hidden_layer_sizes=(100,), random_state=1, max_iter = 5000, learning_rate='adaptive', tol=1e-9)),\n",
    "#               ('svm', svm.SVC()),('sgd', SGDClassifier()), ('NB', GaussianNB())]\n",
    "\n",
    "# clf = StackingClassifier(estimators=estimators, final_estimator=LogisticRegression())\n",
    "# clf.fit(X, y)\n",
    "# y_pred = clf.predict(X_test)\n",
    "# np.round(accuracy_score(y_test, y_pred),4)"
   ]
  },
  {
   "cell_type": "code",
   "execution_count": 5,
   "id": "5a4f7c3c",
   "metadata": {},
   "outputs": [
    {
     "data": {
      "text/plain": [
       "{'fit_time': array([0.23808599, 0.18748307, 0.1884892 , 0.18723392, 0.20786667]),\n",
       " 'score_time': array([0.01716113, 0.01738954, 0.01741362, 0.01703978, 0.01722789]),\n",
       " 'test_score': array([0.79888268, 0.83146067, 0.80898876, 0.79213483, 0.83146067])}"
      ]
     },
     "execution_count": 5,
     "metadata": {},
     "output_type": "execute_result"
    }
   ],
   "source": [
    "from sklearn.ensemble import RandomForestClassifier\n",
    "clf = RandomForestClassifier(n_estimators=200, max_depth=50, random_state=42)\n",
    "scores = cross_validate(clf, X, y)\n",
    "scores"
   ]
  },
  {
   "cell_type": "code",
   "execution_count": 6,
   "id": "d3d03e1c",
   "metadata": {},
   "outputs": [
    {
     "data": {
      "text/plain": [
       "{'fit_time': array([0.07247996, 0.11507559, 0.06976509, 0.06675076, 0.04898143]),\n",
       " 'score_time': array([0.00358653, 0.00332928, 0.00353241, 0.00300431, 0.00313854]),\n",
       " 'test_score': array([0.79888268, 0.82022472, 0.79213483, 0.76966292, 0.84831461])}"
      ]
     },
     "execution_count": 6,
     "metadata": {},
     "output_type": "execute_result"
    }
   ],
   "source": [
    "from sklearn import svm\n",
    "pars = {'random_state':42, 'tol': 1e-07, 'C':100}\n",
    "clf = svm.SVC(**pars)\n",
    "scores = cross_validate(clf, X, y)\n",
    "scores"
   ]
  },
  {
   "cell_type": "code",
   "execution_count": 7,
   "id": "b97afa26",
   "metadata": {},
   "outputs": [
    {
     "data": {
      "text/plain": [
       "{'fit_time': array([0.30493188, 0.292943  , 0.30742407, 0.32108569, 0.33741021]),\n",
       " 'score_time': array([0.00220513, 0.00220966, 0.00223613, 0.00237918, 0.00229907]),\n",
       " 'test_score': array([0.79329609, 0.82022472, 0.78651685, 0.78089888, 0.81460674])}"
      ]
     },
     "execution_count": 7,
     "metadata": {},
     "output_type": "execute_result"
    }
   ],
   "source": [
    "from sklearn.ensemble import GradientBoostingClassifier\n",
    "clf = GradientBoostingClassifier(n_estimators=100, learning_rate=1.0, max_depth=50, random_state=42)\n",
    "scores = cross_validate(clf, X, y)\n",
    "scores"
   ]
  },
  {
   "cell_type": "code",
   "execution_count": null,
   "id": "c1760c7a",
   "metadata": {},
   "outputs": [],
   "source": []
  }
 ],
 "metadata": {
  "kernelspec": {
   "display_name": "Python-ML",
   "language": "python",
   "name": "ml"
  },
  "language_info": {
   "codemirror_mode": {
    "name": "ipython",
    "version": 3
   },
   "file_extension": ".py",
   "mimetype": "text/x-python",
   "name": "python",
   "nbconvert_exporter": "python",
   "pygments_lexer": "ipython3",
   "version": "3.9.12"
  }
 },
 "nbformat": 4,
 "nbformat_minor": 5
}
